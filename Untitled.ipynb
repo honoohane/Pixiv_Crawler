{
 "cells": [
  {
   "cell_type": "code",
   "execution_count": 3,
   "metadata": {},
   "outputs": [],
   "source": [
    "import requests\n",
    "from bs4 import BeautifulSoup"
   ]
  },
  {
   "cell_type": "code",
   "execution_count": 48,
   "metadata": {},
   "outputs": [],
   "source": [
    "se = requests.session()\n",
    "\n",
    "headers = {\n",
    "    'Referer': 'https://accounts.pixiv.net/login?return_to=https%3A%2F%2Fwww.pixiv.net%2Fen%2F&lang=en&source=pc&view_type=page',\n",
    "    \"User-Agent\": \"Mozilla/5.0 (Windows NT 10.0; Win64; x64) AppleWebKit/537.36 (KHTML, like Gecko) Chrome/88.0.4324.190 Safari/537.36\"\n",
    "}\n",
    "\n",
    "proxies = {\n",
    "            \"http\": \"http://proxy-web.micron.com:80\", \n",
    "            \"https\": \"http://proxy-web.micron.com:80\"\n",
    "}"
   ]
  },
  {
   "cell_type": "code",
   "execution_count": 74,
   "metadata": {},
   "outputs": [
    {
     "name": "stderr",
     "output_type": "stream",
     "text": [
      "C:\\Anaconda3\\envs\\acoustics\\lib\\site-packages\\urllib3\\connectionpool.py:986: InsecureRequestWarning: Unverified HTTPS request is being made to host 'proxy-web.micron.com'. Adding certificate verification is strongly advised. See: https://urllib3.readthedocs.io/en/latest/advanced-usage.html#ssl-warnings\n",
      "  InsecureRequestWarning,\n",
      "C:\\Anaconda3\\envs\\acoustics\\lib\\site-packages\\urllib3\\connectionpool.py:986: InsecureRequestWarning: Unverified HTTPS request is being made to host 'proxy-web.micron.com'. Adding certificate verification is strongly advised. See: https://urllib3.readthedocs.io/en/latest/advanced-usage.html#ssl-warnings\n",
      "  InsecureRequestWarning,\n"
     ]
    },
    {
     "data": {
      "text/plain": [
       "{'error': False,\n",
       " 'message': '',\n",
       " 'body': {'validation_errors': {'captcha': 'Complete the reCAPTCHA verification'}}}"
      ]
     },
     "execution_count": 74,
     "metadata": {},
     "output_type": "execute_result"
    }
   ],
   "source": [
    "base_url = 'https://accounts.pixiv.net/login?return_to=https%3A%2F%2Fwww.pixiv.net%2Fen%2F&lang=en&source=pc&view_type=page'\n",
    "login_url = 'https://accounts.pixiv.net/api/login?lang=en'\n",
    "post_key_html = se.get(base_url, headers=headers, proxies=proxies, verify=False).text\n",
    "post_key_soup = BeautifulSoup(post_key_html, 'lxml')\n",
    "post_key = post_key_soup.find('input')['value']\n",
    "data = {\n",
    "    'pixiv_id': 'zs1368',\n",
    "    'password': 'zsaptx-4869',\n",
    "    'post_key': post_key\n",
    "}\n",
    "web = se.post(login_url, data=data, headers=headers, proxies=proxies, verify=False).text\n",
    "json.loads(web)\n",
    "# se.get(url='https://www.pixiv.net/', proxies=proxies, verify=False)"
   ]
  },
  {
   "cell_type": "code",
   "execution_count": 61,
   "metadata": {},
   "outputs": [
    {
     "name": "stderr",
     "output_type": "stream",
     "text": [
      "C:\\Anaconda3\\envs\\acoustics\\lib\\site-packages\\urllib3\\connectionpool.py:986: InsecureRequestWarning: Unverified HTTPS request is being made to host 'proxy-web.micron.com'. Adding certificate verification is strongly advised. See: https://urllib3.readthedocs.io/en/latest/advanced-usage.html#ssl-warnings\n",
      "  InsecureRequestWarning,\n",
      "C:\\Anaconda3\\envs\\acoustics\\lib\\site-packages\\urllib3\\connectionpool.py:986: InsecureRequestWarning: Unverified HTTPS request is being made to host 'proxy-web.micron.com'. Adding certificate verification is strongly advised. See: https://urllib3.readthedocs.io/en/latest/advanced-usage.html#ssl-warnings\n",
      "  InsecureRequestWarning,\n"
     ]
    }
   ],
   "source": [
    "raw_keyword = '原创'\n",
    "i=1\n",
    "search_keyword = requests.utils.quote(raw_keyword)\n",
    "url = 'https://www.pixiv.net/tags/' + search_keyword + '/artworks?p=' + str(i) + '&s_mode=s_tag'\n",
    "html = se.get(url, headers=headers, timeout=10, proxies=proxies, verify=False)\n",
    "with open('page-' + str(i) + '.html', 'w', encoding='UTF-8') as file:\n",
    "    file.write(html.text)"
   ]
  },
  {
   "cell_type": "code",
   "execution_count": 45,
   "metadata": {},
   "outputs": [
    {
     "name": "stderr",
     "output_type": "stream",
     "text": [
      "C:\\Anaconda3\\envs\\acoustics\\lib\\site-packages\\urllib3\\connectionpool.py:986: InsecureRequestWarning: Unverified HTTPS request is being made to host 'proxy-web.micron.com'. Adding certificate verification is strongly advised. See: https://urllib3.readthedocs.io/en/latest/advanced-usage.html#ssl-warnings\n",
      "  InsecureRequestWarning,\n",
      "C:\\Anaconda3\\envs\\acoustics\\lib\\site-packages\\urllib3\\connectionpool.py:986: InsecureRequestWarning: Unverified HTTPS request is being made to host 'proxy-web.micron.com'. Adding certificate verification is strongly advised. See: https://urllib3.readthedocs.io/en/latest/advanced-usage.html#ssl-warnings\n",
      "  InsecureRequestWarning,\n"
     ]
    },
    {
     "name": "stdout",
     "output_type": "stream",
     "text": [
      "{'error': False, 'message': '', 'body': {'validation_errors': {'captcha': '请进行reCAPTCHA认证'}}}\n"
     ]
    }
   ],
   "source": [
    "from bs4 import BeautifulSoup as bs\n",
    "import requests\n",
    "import json\n",
    "headers = {\n",
    "            'User-Agent': 'Mozilla/5.0 (X11; Linux x86_64) AppleWebKit/537.36 (KHTML, like Gecko) Chrome/74.0.3729.131 Safari/537.36',\n",
    "            'referer': 'https://accounts.pixiv.net/login?lang=zh&source=pc&view_type=page&ref=wwwtop_accounts_index'\n",
    "            # 注意校验码referer，不添加会被反爬403错误，可以在抓包里找\n",
    "        }\n",
    "        \n",
    "accounts_url = 'https://accounts.pixiv.net/login?return_to=https%3A%2F%2Fwww.pixiv.net%2F&lang=zh&source=pc&view_type=page'\n",
    "login_url = 'https://accounts.pixiv.net/api/login?lang=zh'  # 登录URL\n",
    "\n",
    "se = requests.session()\n",
    "pixiv_key_html = se.get(accounts_url, headers=headers, proxies=proxies, verify=False).text\n",
    "pixiv_key_soup = bs(pixiv_key_html, 'lxml')\n",
    "post = pixiv_key_soup.find('input')['value']\n",
    "\n",
    "data = {\n",
    "    'pixiv_id': 'zs1368', # 你的用户名\n",
    "    'password': 'zsaptx-4869', # 你的登陆密码\n",
    "    'post_key': post,\n",
    "    \"ref\": \"wwwtop_accounts_index\",\n",
    "    \"source\": \"pc\",\n",
    "    'return_to': 'https://www.pixiv.net/'\n",
    "}\n",
    "\n",
    "dare = se.post(login_url, data=data, headers=headers, proxies=proxies, verify=False).text  # 登录\n",
    "da = json.loads(dare)\n",
    "print(da)  "
   ]
  },
  {
   "cell_type": "code",
   "execution_count": 73,
   "metadata": {},
   "outputs": [
    {
     "name": "stdout",
     "output_type": "stream",
     "text": [
      ".......请在打开的浏览器中登录........\n"
     ]
    },
    {
     "name": "stderr",
     "output_type": "stream",
     "text": [
      "C:\\Anaconda3\\envs\\acoustics\\lib\\site-packages\\urllib3\\connectionpool.py:986: InsecureRequestWarning: Unverified HTTPS request is being made to host 'proxy-web.micron.com'. Adding certificate verification is strongly advised. See: https://urllib3.readthedocs.io/en/latest/advanced-usage.html#ssl-warnings\n",
      "  InsecureRequestWarning,\n",
      "C:\\Anaconda3\\envs\\acoustics\\lib\\site-packages\\urllib3\\connectionpool.py:986: InsecureRequestWarning: Unverified HTTPS request is being made to host 'proxy-web.micron.com'. Adding certificate verification is strongly advised. See: https://urllib3.readthedocs.io/en/latest/advanced-usage.html#ssl-warnings\n",
      "  InsecureRequestWarning,\n"
     ]
    }
   ],
   "source": [
    "import time\n",
    "from splinter.browser import Browser\n",
    "\n",
    "browser = None\n",
    "browser_name = \"chrome\"  # 浏览器名\n",
    "driver_path = \"chromedriver.exe\"  # 打开浏览器的驱动\n",
    "\n",
    "raw_keyword = '原创'\n",
    "i=3\n",
    "search_keyword = requests.utils.quote(raw_keyword)\n",
    "base_url = 'https://www.pixiv.net/tags/' + search_keyword + '/artworks?p=' + str(i)\n",
    "\n",
    "browser = Browser(driver_name=browser_name, executable_path=driver_path)  # 打开浏览器\n",
    "\n",
    "browser.visit(base_url)  # 访问页面\n",
    "time.sleep(2)  # 暂停两秒，等待浏览器加载完成\n",
    "\n",
    "print(\".......请在打开的浏览器中登录........\")\n",
    "browser.find_link_by_text('Log in').click()  # 点击登录\n",
    "\n",
    "username = 'zs1368'\n",
    "password = 'zsaptx-4869'\n",
    "\n",
    "if username is not None:\n",
    "    browser.find_by_xpath('//input[@autocomplete=\"username\"]').fill(username)\n",
    "if password is not None:\n",
    "    browser.find_by_xpath('//input[@autocomplete=\"current-password\"]').fill(password)\n",
    "\n",
    "browser.find_by_text('Login').last.click()\n",
    "\n",
    "raw_keyword = '原创'\n",
    "i=1\n",
    "search_keyword = requests.utils.quote(raw_keyword)\n",
    "url = 'https://www.pixiv.net/tags/' + search_keyword + '/artworks?p=' + str(i) + '&s_mode=s_tag'\n",
    "html = se.get(url, headers=headers, timeout=10, proxies=proxies, verify=False)\n",
    "with open('page-' + str(i) + '.html', 'w', encoding='UTF-8') as file:\n",
    "    file.write(html.text)"
   ]
  },
  {
   "cell_type": "code",
   "execution_count": null,
   "metadata": {},
   "outputs": [],
   "source": []
  }
 ],
 "metadata": {
  "kernelspec": {
   "display_name": "Python 3",
   "language": "python",
   "name": "python3"
  },
  "language_info": {
   "codemirror_mode": {
    "name": "ipython",
    "version": 3
   },
   "file_extension": ".py",
   "mimetype": "text/x-python",
   "name": "python",
   "nbconvert_exporter": "python",
   "pygments_lexer": "ipython3",
   "version": "3.6.10"
  }
 },
 "nbformat": 4,
 "nbformat_minor": 4
}
